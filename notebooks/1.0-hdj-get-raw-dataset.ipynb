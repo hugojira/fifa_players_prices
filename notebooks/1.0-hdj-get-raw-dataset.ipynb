{
 "cells": [
  {
   "cell_type": "markdown",
   "metadata": {},
   "source": [
    "# Make dataset\n",
    "This notebook is a prototype for creating the dataset. It downloads the dataset from kaggle and it stores the raw data into the data/raw directory.\n",
    "\n",
    "1.- Download the csv files from Kaggle into \"data/raw\"\n",
    "2.- Select only the csv file \"male_players.csv\" and delete the other ones."
   ]
  },
  {
   "cell_type": "code",
   "execution_count": 42,
   "metadata": {},
   "outputs": [],
   "source": [
    "import os\n",
    "import kaggle\n",
    "\n",
    "def download_kaggle_dataset(dataset, destination_folder=\"data/raw\"):\n",
    "    \"\"\"\n",
    "    Downloads a dataset from Kaggle to a specified folder.\n",
    "\n",
    "    Args:\n",
    "        dataset (str): The name of the dataset on Kaggle.\n",
    "        destination_folder (str, optional): The full path of the destination folder. Defaults to \"data/raw\".\n",
    "    \"\"\"\n",
    "\n",
    "    # Check if the destination folder exists\n",
    "    if not os.path.exists(destination_folder):\n",
    "        os.makedirs(destination_folder)\n",
    "\n",
    "    # Check if there are CSV files in the folder\n",
    "    csv_files = [file for file in os.listdir(destination_folder) if file.endswith('.csv')]\n",
    "    if not csv_files:\n",
    "        # Download the dataset if there are no CSV files\n",
    "        print(f\"Downloading dataset {dataset} to {destination_folder}\")\n",
    "        kaggle.api.dataset_download_files(dataset, path=destination_folder, unzip=True)\n",
    "    else:\n",
    "        print(f\"CSV files already exist in {destination_folder}. Dataset will not be downloaded.\")"
   ]
  },
  {
   "cell_type": "code",
   "execution_count": 60,
   "metadata": {},
   "outputs": [],
   "source": [
    "import os\n",
    "\n",
    "def keep_only_selected_csv(directory, selected_csv):\n",
    "  \"\"\"\n",
    "  Keeps only the specified CSV file in the given directory \n",
    "  and deletes all other CSV files.\n",
    "\n",
    "  Args:\n",
    "    directory (str): Path to the directory containing the CSV files.\n",
    "    selected_csv (str): Name of the CSV file to keep.\n",
    "  \"\"\"\n",
    "\n",
    "  csv_files = [f for f in os.listdir(directory) if f.endswith('.csv')]\n",
    "\n",
    "  if not csv_files:\n",
    "    print(f\"No CSV files found in {directory}\")\n",
    "    return\n",
    "\n",
    "  # Keep only the selected_csv file\n",
    "  for file in csv_files:\n",
    "    if file != selected_csv:\n",
    "      file_path = os.path.join(directory, file)\n",
    "      os.remove(file_path)\n",
    "      print(f\"Deleted: {file}\")\n",
    "  print(f\"Kept: {selected_csv}\")"
   ]
  },
  {
   "cell_type": "code",
   "execution_count": 61,
   "metadata": {},
   "outputs": [
    {
     "name": "stdout",
     "output_type": "stream",
     "text": [
      "CSV files already exist in ../data/raw. Dataset will not be downloaded.\n",
      "Kept: male_players.csv\n"
     ]
    }
   ],
   "source": [
    "# Using the function\n",
    "dataset = \"stefanoleone992/ea-sports-fc-24-complete-player-dataset\"  # Reemplaza con el nombre de tu dataset\n",
    "directory = \"../data/raw\"\n",
    "selected_file = \"male_players.csv\"\n",
    "\n",
    "download_kaggle_dataset(dataset, directory)\n",
    "keep_only_selected_csv(directory, selected_file)"
   ]
  },
  {
   "cell_type": "code",
   "execution_count": null,
   "metadata": {},
   "outputs": [],
   "source": []
  }
 ],
 "metadata": {
  "kernelspec": {
   "display_name": "fifa-prices",
   "language": "python",
   "name": "python3"
  },
  "language_info": {
   "codemirror_mode": {
    "name": "ipython",
    "version": 3
   },
   "file_extension": ".py",
   "mimetype": "text/x-python",
   "name": "python",
   "nbconvert_exporter": "python",
   "pygments_lexer": "ipython3",
   "version": "3.12.4"
  }
 },
 "nbformat": 4,
 "nbformat_minor": 2
}
