{
 "cells": [
  {
   "cell_type": "markdown",
   "metadata": {},
   "source": [
    "## Data exploration and preparation\n",
    "This notebook is for exploring the dataset, its features and then doing the feature engineering part to obtain the final set of features."
   ]
  },
  {
   "cell_type": "markdown",
   "metadata": {},
   "source": [
    "## Libraries"
   ]
  },
  {
   "cell_type": "code",
   "execution_count": 2,
   "metadata": {},
   "outputs": [],
   "source": [
    "import pandas as pd\n",
    "import numpy as np"
   ]
  },
  {
   "cell_type": "markdown",
   "metadata": {},
   "source": [
    "## Import the raw dataset"
   ]
  },
  {
   "cell_type": "code",
   "execution_count": 3,
   "metadata": {},
   "outputs": [
    {
     "name": "stderr",
     "output_type": "stream",
     "text": [
      "/var/folders/b_/m2t7w7sd4cb_c94m0bktnymh0000gn/T/ipykernel_57124/2291339002.py:2: DtypeWarning: Columns (108) have mixed types. Specify dtype option on import or set low_memory=False.\n",
      "  df_raw = pd.read_csv(raw_path)\n"
     ]
    },
    {
     "data": {
      "text/html": [
       "<div>\n",
       "<style scoped>\n",
       "    .dataframe tbody tr th:only-of-type {\n",
       "        vertical-align: middle;\n",
       "    }\n",
       "\n",
       "    .dataframe tbody tr th {\n",
       "        vertical-align: top;\n",
       "    }\n",
       "\n",
       "    .dataframe thead th {\n",
       "        text-align: right;\n",
       "    }\n",
       "</style>\n",
       "<table border=\"1\" class=\"dataframe\">\n",
       "  <thead>\n",
       "    <tr style=\"text-align: right;\">\n",
       "      <th></th>\n",
       "      <th>player_id</th>\n",
       "      <th>player_url</th>\n",
       "      <th>fifa_version</th>\n",
       "      <th>fifa_update</th>\n",
       "      <th>update_as_of</th>\n",
       "      <th>short_name</th>\n",
       "      <th>long_name</th>\n",
       "      <th>player_positions</th>\n",
       "      <th>overall</th>\n",
       "      <th>potential</th>\n",
       "      <th>...</th>\n",
       "      <th>ldm</th>\n",
       "      <th>cdm</th>\n",
       "      <th>rdm</th>\n",
       "      <th>rwb</th>\n",
       "      <th>lb</th>\n",
       "      <th>lcb</th>\n",
       "      <th>cb</th>\n",
       "      <th>rcb</th>\n",
       "      <th>rb</th>\n",
       "      <th>gk</th>\n",
       "    </tr>\n",
       "  </thead>\n",
       "  <tbody>\n",
       "    <tr>\n",
       "      <th>0</th>\n",
       "      <td>231747</td>\n",
       "      <td>/player/231747/kylian-mbappe/240002</td>\n",
       "      <td>24.0</td>\n",
       "      <td>2.0</td>\n",
       "      <td>2023-09-22</td>\n",
       "      <td>K. Mbappé</td>\n",
       "      <td>Kylian Mbappé Lottin</td>\n",
       "      <td>ST, LW</td>\n",
       "      <td>91</td>\n",
       "      <td>94</td>\n",
       "      <td>...</td>\n",
       "      <td>63+3</td>\n",
       "      <td>63+3</td>\n",
       "      <td>63+3</td>\n",
       "      <td>68+3</td>\n",
       "      <td>63+3</td>\n",
       "      <td>54+3</td>\n",
       "      <td>54+3</td>\n",
       "      <td>54+3</td>\n",
       "      <td>63+3</td>\n",
       "      <td>18+3</td>\n",
       "    </tr>\n",
       "    <tr>\n",
       "      <th>1</th>\n",
       "      <td>239085</td>\n",
       "      <td>/player/239085/erling-haaland/240002</td>\n",
       "      <td>24.0</td>\n",
       "      <td>2.0</td>\n",
       "      <td>2023-09-22</td>\n",
       "      <td>E. Haaland</td>\n",
       "      <td>Erling Braut Haaland</td>\n",
       "      <td>ST</td>\n",
       "      <td>91</td>\n",
       "      <td>94</td>\n",
       "      <td>...</td>\n",
       "      <td>63+3</td>\n",
       "      <td>63+3</td>\n",
       "      <td>63+3</td>\n",
       "      <td>62+3</td>\n",
       "      <td>60+3</td>\n",
       "      <td>62+3</td>\n",
       "      <td>62+3</td>\n",
       "      <td>62+3</td>\n",
       "      <td>60+3</td>\n",
       "      <td>19+3</td>\n",
       "    </tr>\n",
       "    <tr>\n",
       "      <th>2</th>\n",
       "      <td>192985</td>\n",
       "      <td>/player/192985/kevin-de-bruyne/240002</td>\n",
       "      <td>24.0</td>\n",
       "      <td>2.0</td>\n",
       "      <td>2023-09-22</td>\n",
       "      <td>K. De Bruyne</td>\n",
       "      <td>Kevin De Bruyne</td>\n",
       "      <td>CM, CAM</td>\n",
       "      <td>91</td>\n",
       "      <td>91</td>\n",
       "      <td>...</td>\n",
       "      <td>80+3</td>\n",
       "      <td>80+3</td>\n",
       "      <td>80+3</td>\n",
       "      <td>79+3</td>\n",
       "      <td>75+3</td>\n",
       "      <td>70+3</td>\n",
       "      <td>70+3</td>\n",
       "      <td>70+3</td>\n",
       "      <td>75+3</td>\n",
       "      <td>21+3</td>\n",
       "    </tr>\n",
       "    <tr>\n",
       "      <th>3</th>\n",
       "      <td>158023</td>\n",
       "      <td>/player/158023/lionel-messi/240002</td>\n",
       "      <td>24.0</td>\n",
       "      <td>2.0</td>\n",
       "      <td>2023-09-22</td>\n",
       "      <td>L. Messi</td>\n",
       "      <td>Lionel Andrés Messi Cuccittini</td>\n",
       "      <td>CF, CAM</td>\n",
       "      <td>90</td>\n",
       "      <td>90</td>\n",
       "      <td>...</td>\n",
       "      <td>63+3</td>\n",
       "      <td>63+3</td>\n",
       "      <td>63+3</td>\n",
       "      <td>64+3</td>\n",
       "      <td>59+3</td>\n",
       "      <td>49+3</td>\n",
       "      <td>49+3</td>\n",
       "      <td>49+3</td>\n",
       "      <td>59+3</td>\n",
       "      <td>19+3</td>\n",
       "    </tr>\n",
       "    <tr>\n",
       "      <th>4</th>\n",
       "      <td>165153</td>\n",
       "      <td>/player/165153/karim-benzema/240002</td>\n",
       "      <td>24.0</td>\n",
       "      <td>2.0</td>\n",
       "      <td>2023-09-22</td>\n",
       "      <td>K. Benzema</td>\n",
       "      <td>Karim Benzema</td>\n",
       "      <td>CF, ST</td>\n",
       "      <td>90</td>\n",
       "      <td>90</td>\n",
       "      <td>...</td>\n",
       "      <td>64+3</td>\n",
       "      <td>64+3</td>\n",
       "      <td>64+3</td>\n",
       "      <td>64+3</td>\n",
       "      <td>60+3</td>\n",
       "      <td>55+3</td>\n",
       "      <td>55+3</td>\n",
       "      <td>55+3</td>\n",
       "      <td>60+3</td>\n",
       "      <td>18+3</td>\n",
       "    </tr>\n",
       "  </tbody>\n",
       "</table>\n",
       "<p>5 rows × 109 columns</p>\n",
       "</div>"
      ],
      "text/plain": [
       "   player_id                             player_url  fifa_version  \\\n",
       "0     231747    /player/231747/kylian-mbappe/240002          24.0   \n",
       "1     239085   /player/239085/erling-haaland/240002          24.0   \n",
       "2     192985  /player/192985/kevin-de-bruyne/240002          24.0   \n",
       "3     158023     /player/158023/lionel-messi/240002          24.0   \n",
       "4     165153    /player/165153/karim-benzema/240002          24.0   \n",
       "\n",
       "   fifa_update update_as_of    short_name                       long_name  \\\n",
       "0          2.0   2023-09-22     K. Mbappé            Kylian Mbappé Lottin   \n",
       "1          2.0   2023-09-22    E. Haaland            Erling Braut Haaland   \n",
       "2          2.0   2023-09-22  K. De Bruyne                 Kevin De Bruyne   \n",
       "3          2.0   2023-09-22      L. Messi  Lionel Andrés Messi Cuccittini   \n",
       "4          2.0   2023-09-22    K. Benzema                   Karim Benzema   \n",
       "\n",
       "  player_positions  overall  potential  ...   ldm   cdm   rdm   rwb    lb  \\\n",
       "0           ST, LW       91         94  ...  63+3  63+3  63+3  68+3  63+3   \n",
       "1               ST       91         94  ...  63+3  63+3  63+3  62+3  60+3   \n",
       "2          CM, CAM       91         91  ...  80+3  80+3  80+3  79+3  75+3   \n",
       "3          CF, CAM       90         90  ...  63+3  63+3  63+3  64+3  59+3   \n",
       "4           CF, ST       90         90  ...  64+3  64+3  64+3  64+3  60+3   \n",
       "\n",
       "    lcb    cb   rcb    rb    gk  \n",
       "0  54+3  54+3  54+3  63+3  18+3  \n",
       "1  62+3  62+3  62+3  60+3  19+3  \n",
       "2  70+3  70+3  70+3  75+3  21+3  \n",
       "3  49+3  49+3  49+3  59+3  19+3  \n",
       "4  55+3  55+3  55+3  60+3  18+3  \n",
       "\n",
       "[5 rows x 109 columns]"
      ]
     },
     "execution_count": 3,
     "metadata": {},
     "output_type": "execute_result"
    }
   ],
   "source": [
    "raw_path = \"../data/raw/male_players.csv\"\n",
    "df_raw = pd.read_csv(raw_path)\n",
    "df_raw.head()"
   ]
  },
  {
   "cell_type": "code",
   "execution_count": 23,
   "metadata": {},
   "outputs": [
    {
     "data": {
      "text/plain": [
       "player_id                     int64\n",
       "fifa_version                float64\n",
       "fifa_update                 float64\n",
       "update_as_of                 object\n",
       "short_name                   object\n",
       "long_name                    object\n",
       "potential                     int64\n",
       "value_eur                   float64\n",
       "age                           int64\n",
       "height_cm                     int64\n",
       "weak_foot                     int64\n",
       "international_reputation      int64\n",
       "club_position                object\n",
       "player_positions             object\n",
       "pace                        float64\n",
       "shooting                    float64\n",
       "passing                     float64\n",
       "dribbling                   float64\n",
       "defending                   float64\n",
       "physic                      float64\n",
       "dtype: object"
      ]
     },
     "execution_count": 23,
     "metadata": {},
     "output_type": "execute_result"
    }
   ],
   "source": [
    "df_raw.dtypes"
   ]
  },
  {
   "cell_type": "markdown",
   "metadata": {},
   "source": [
    "## Select the features\n",
    "Based on the paper \"Predict the Value of Football Players Using FIFA Video Game Data and Machine Learning Techniques\" by M. A. Al-Asadi and S. Tasdemır, they worked with the FIFA 20 dataset and selected the features Age, Height, team_position, weak_foot, shooting, dribbling, passing, international_reputation and potential. In this case I'll add 3 more features from the main player attributes: pace, defending and physic and remove the team_position.\n",
    "\n",
    "The **11 features** to work with are\n",
    "\n",
    "Age\n",
    "\n",
    "Height\n",
    "\n",
    "weak_foot\n",
    "\n",
    "shooting\n",
    "\n",
    "dribbling\n",
    "\n",
    "passing\n",
    "\n",
    "pace\n",
    "\n",
    "defending\n",
    "\n",
    "physic\n",
    "\n",
    "international_reputation \n",
    "\n",
    "potential\n",
    "\n",
    "And the **target variable** is\n",
    "\n",
    "value_eur"
   ]
  },
  {
   "cell_type": "code",
   "execution_count": 4,
   "metadata": {},
   "outputs": [],
   "source": [
    "features_list = [\"potential\", \"age\", \"height_cm\", \"weak_foot\", \"international_reputation\", \n",
    "                 \"pace\", \"shooting\", \"passing\", \"dribbling\", \"defending\", \"physic\"]\n",
    "\n",
    "target_list = [\"value_eur\"]"
   ]
  },
  {
   "cell_type": "code",
   "execution_count": 5,
   "metadata": {},
   "outputs": [
    {
     "data": {
      "text/plain": [
       "array(['LW', 'ST', 'SUB', 'RF', 'RS', 'GK', 'RCM', 'LCB', 'LM', 'RW',\n",
       "       'RDM', 'CAM', 'LCM', 'LS', 'RCB', 'RB', 'RES', 'CDM', 'RM', 'LB',\n",
       "       'LF', 'CB', 'CM', 'LDM', 'CF', 'LAM', 'RWB', 'LWB', nan, 'RAM'],\n",
       "      dtype=object)"
      ]
     },
     "execution_count": 5,
     "metadata": {},
     "output_type": "execute_result"
    }
   ],
   "source": [
    "df_raw.club_position.unique()"
   ]
  },
  {
   "cell_type": "code",
   "execution_count": 6,
   "metadata": {},
   "outputs": [],
   "source": [
    "subset = [\"player_id\", \"fifa_version\", \"fifa_update\", \"update_as_of\", \"short_name\", \"long_name\", \"potential\",\n",
    "          \"value_eur\", \"age\", \"height_cm\", \"weak_foot\", \"international_reputation\", \"club_position\", \"player_positions\",\n",
    "          \"pace\", \"shooting\", \"passing\", \"dribbling\", \"defending\", \"physic\"]\n",
    "\n",
    "df_raw = df_raw[subset]"
   ]
  },
  {
   "cell_type": "markdown",
   "metadata": {},
   "source": [
    "## Remove missing values\n",
    "I'll remove the Goalkepers from this experiment, since they don't have values in the features \"pace\", \"shooting\", \"passing\", \"dribbling\", \"defending\", \"physic\".\n",
    "Also, I'll remove all the rows where there are missing values."
   ]
  },
  {
   "cell_type": "code",
   "execution_count": 7,
   "metadata": {},
   "outputs": [
    {
     "data": {
      "text/plain": [
       "(158112, 20)"
      ]
     },
     "execution_count": 7,
     "metadata": {},
     "output_type": "execute_result"
    }
   ],
   "source": [
    "df = df_raw[df_raw.player_positions != \"GK\"].dropna(axis=0)\n",
    "df.shape"
   ]
  },
  {
   "cell_type": "code",
   "execution_count": 8,
   "metadata": {},
   "outputs": [
    {
     "data": {
      "text/plain": [
       "(180021, 20)"
      ]
     },
     "execution_count": 8,
     "metadata": {},
     "output_type": "execute_result"
    }
   ],
   "source": [
    "df_raw.shape"
   ]
  },
  {
   "cell_type": "markdown",
   "metadata": {},
   "source": [
    "## Exploratory Data Analysis\n",
    "In the paper, the authors mention that the target variable \"value_eur\", the price of the players, needs to be transformed with log in order to have a smoother distribution. Let's see that for ourselves."
   ]
  },
  {
   "cell_type": "code",
   "execution_count": 9,
   "metadata": {},
   "outputs": [
    {
     "data": {
      "text/plain": [
       "<Axes: ylabel='Frequency'>"
      ]
     },
     "execution_count": 9,
     "metadata": {},
     "output_type": "execute_result"
    },
    {
     "data": {
      "image/png": "[encoded data removed]",
      "text/plain": [
       "<Figure size 700x700 with 1 Axes>"
      ]
     },
     "metadata": {},
     "output_type": "display_data"
    }
   ],
   "source": [
    "df.value_eur.plot(kind=\"hist\", bins= 40 ,figsize=(7, 7))"
   ]
  },
  {
   "cell_type": "code",
   "execution_count": 10,
   "metadata": {},
   "outputs": [
    {
     "data": {
      "text/plain": [
       "<Axes: ylabel='Frequency'>"
      ]
     },
     "execution_count": 10,
     "metadata": {},
     "output_type": "execute_result"
    },
    {
     "data": {
      "image/png": "[encoded data removed]",
      "text/plain": [
       "<Figure size 700x700 with 1 Axes>"
      ]
     },
     "metadata": {},
     "output_type": "display_data"
    }
   ],
   "source": [
    "np.log(df.value_eur).plot(kind=\"hist\", bins= 40 ,figsize=(7, 7))"
   ]
  },
  {
   "cell_type": "code",
   "execution_count": 11,
   "metadata": {},
   "outputs": [],
   "source": [
    "df[\"value_eur_log\"] = np.log(df.value_eur)"
   ]
  },
  {
   "cell_type": "code",
   "execution_count": 12,
   "metadata": {},
   "outputs": [
    {
     "data": {
      "text/plain": [
       "0         19.016766\n",
       "1         19.035866\n",
       "2         18.450240\n",
       "3         17.529083\n",
       "4         17.747336\n",
       "            ...    \n",
       "180014    10.126631\n",
       "180016     9.903488\n",
       "180017    10.308953\n",
       "180018     9.615805\n",
       "180019     9.615805\n",
       "Name: value_eur_log, Length: 158112, dtype: float64"
      ]
     },
     "execution_count": 12,
     "metadata": {},
     "output_type": "execute_result"
    }
   ],
   "source": [
    "df.value_eur_log"
   ]
  },
  {
   "cell_type": "code",
   "execution_count": 13,
   "metadata": {},
   "outputs": [
    {
     "data": {
      "text/plain": [
       "Index(['player_id', 'fifa_version', 'fifa_update', 'update_as_of',\n",
       "       'short_name', 'long_name', 'potential', 'value_eur', 'age', 'height_cm',\n",
       "       'weak_foot', 'international_reputation', 'club_position',\n",
       "       'player_positions', 'pace', 'shooting', 'passing', 'dribbling',\n",
       "       'defending', 'physic', 'value_eur_log'],\n",
       "      dtype='object')"
      ]
     },
     "execution_count": 13,
     "metadata": {},
     "output_type": "execute_result"
    }
   ],
   "source": [
    "df.columns"
   ]
  },
  {
   "cell_type": "markdown",
   "metadata": {},
   "source": [
    "**NOTE:** One impotant thing to mention is that the inflation takes an effect on the prices. A player with the sames features wouldn't cost the same in 2015 and 2024. I'm not considering this effect in this experiment, it could be something to work later."
   ]
  },
  {
   "cell_type": "markdown",
   "metadata": {},
   "source": [
    "## Final dataframe with the features to be used"
   ]
  },
  {
   "cell_type": "code",
   "execution_count": 14,
   "metadata": {},
   "outputs": [
    {
     "data": {
      "text/html": [
       "<div>\n",
       "<style scoped>\n",
       "    .dataframe tbody tr th:only-of-type {\n",
       "        vertical-align: middle;\n",
       "    }\n",
       "\n",
       "    .dataframe tbody tr th {\n",
       "        vertical-align: top;\n",
       "    }\n",
       "\n",
       "    .dataframe thead th {\n",
       "        text-align: right;\n",
       "    }\n",
       "</style>\n",
       "<table border=\"1\" class=\"dataframe\">\n",
       "  <thead>\n",
       "    <tr style=\"text-align: right;\">\n",
       "      <th></th>\n",
       "      <th>player_id</th>\n",
       "      <th>fifa_version</th>\n",
       "      <th>fifa_update</th>\n",
       "      <th>update_as_of</th>\n",
       "      <th>short_name</th>\n",
       "      <th>long_name</th>\n",
       "      <th>potential</th>\n",
       "      <th>value_eur</th>\n",
       "      <th>age</th>\n",
       "      <th>height_cm</th>\n",
       "      <th>...</th>\n",
       "      <th>international_reputation</th>\n",
       "      <th>club_position</th>\n",
       "      <th>player_positions</th>\n",
       "      <th>pace</th>\n",
       "      <th>shooting</th>\n",
       "      <th>passing</th>\n",
       "      <th>dribbling</th>\n",
       "      <th>defending</th>\n",
       "      <th>physic</th>\n",
       "      <th>value_eur_log</th>\n",
       "    </tr>\n",
       "  </thead>\n",
       "  <tbody>\n",
       "    <tr>\n",
       "      <th>0</th>\n",
       "      <td>231747</td>\n",
       "      <td>24.0</td>\n",
       "      <td>2.0</td>\n",
       "      <td>2023-09-22</td>\n",
       "      <td>K. Mbappé</td>\n",
       "      <td>Kylian Mbappé Lottin</td>\n",
       "      <td>94</td>\n",
       "      <td>181500000.0</td>\n",
       "      <td>24</td>\n",
       "      <td>182</td>\n",
       "      <td>...</td>\n",
       "      <td>5</td>\n",
       "      <td>LW</td>\n",
       "      <td>ST, LW</td>\n",
       "      <td>97.0</td>\n",
       "      <td>90.0</td>\n",
       "      <td>80.0</td>\n",
       "      <td>92.0</td>\n",
       "      <td>36.0</td>\n",
       "      <td>78.0</td>\n",
       "      <td>19.016766</td>\n",
       "    </tr>\n",
       "    <tr>\n",
       "      <th>1</th>\n",
       "      <td>239085</td>\n",
       "      <td>24.0</td>\n",
       "      <td>2.0</td>\n",
       "      <td>2023-09-22</td>\n",
       "      <td>E. Haaland</td>\n",
       "      <td>Erling Braut Haaland</td>\n",
       "      <td>94</td>\n",
       "      <td>185000000.0</td>\n",
       "      <td>22</td>\n",
       "      <td>195</td>\n",
       "      <td>...</td>\n",
       "      <td>5</td>\n",
       "      <td>ST</td>\n",
       "      <td>ST</td>\n",
       "      <td>89.0</td>\n",
       "      <td>93.0</td>\n",
       "      <td>66.0</td>\n",
       "      <td>80.0</td>\n",
       "      <td>45.0</td>\n",
       "      <td>88.0</td>\n",
       "      <td>19.035866</td>\n",
       "    </tr>\n",
       "    <tr>\n",
       "      <th>2</th>\n",
       "      <td>192985</td>\n",
       "      <td>24.0</td>\n",
       "      <td>2.0</td>\n",
       "      <td>2023-09-22</td>\n",
       "      <td>K. De Bruyne</td>\n",
       "      <td>Kevin De Bruyne</td>\n",
       "      <td>91</td>\n",
       "      <td>103000000.0</td>\n",
       "      <td>32</td>\n",
       "      <td>181</td>\n",
       "      <td>...</td>\n",
       "      <td>5</td>\n",
       "      <td>SUB</td>\n",
       "      <td>CM, CAM</td>\n",
       "      <td>72.0</td>\n",
       "      <td>88.0</td>\n",
       "      <td>94.0</td>\n",
       "      <td>87.0</td>\n",
       "      <td>65.0</td>\n",
       "      <td>78.0</td>\n",
       "      <td>18.450240</td>\n",
       "    </tr>\n",
       "    <tr>\n",
       "      <th>3</th>\n",
       "      <td>158023</td>\n",
       "      <td>24.0</td>\n",
       "      <td>2.0</td>\n",
       "      <td>2023-09-22</td>\n",
       "      <td>L. Messi</td>\n",
       "      <td>Lionel Andrés Messi Cuccittini</td>\n",
       "      <td>90</td>\n",
       "      <td>41000000.0</td>\n",
       "      <td>36</td>\n",
       "      <td>169</td>\n",
       "      <td>...</td>\n",
       "      <td>5</td>\n",
       "      <td>RF</td>\n",
       "      <td>CF, CAM</td>\n",
       "      <td>80.0</td>\n",
       "      <td>87.0</td>\n",
       "      <td>90.0</td>\n",
       "      <td>94.0</td>\n",
       "      <td>33.0</td>\n",
       "      <td>64.0</td>\n",
       "      <td>17.529083</td>\n",
       "    </tr>\n",
       "    <tr>\n",
       "      <th>4</th>\n",
       "      <td>165153</td>\n",
       "      <td>24.0</td>\n",
       "      <td>2.0</td>\n",
       "      <td>2023-09-22</td>\n",
       "      <td>K. Benzema</td>\n",
       "      <td>Karim Benzema</td>\n",
       "      <td>90</td>\n",
       "      <td>51000000.0</td>\n",
       "      <td>35</td>\n",
       "      <td>185</td>\n",
       "      <td>...</td>\n",
       "      <td>5</td>\n",
       "      <td>RS</td>\n",
       "      <td>CF, ST</td>\n",
       "      <td>79.0</td>\n",
       "      <td>88.0</td>\n",
       "      <td>83.0</td>\n",
       "      <td>87.0</td>\n",
       "      <td>39.0</td>\n",
       "      <td>78.0</td>\n",
       "      <td>17.747336</td>\n",
       "    </tr>\n",
       "  </tbody>\n",
       "</table>\n",
       "<p>5 rows × 21 columns</p>\n",
       "</div>"
      ],
      "text/plain": [
       "   player_id  fifa_version  fifa_update update_as_of    short_name  \\\n",
       "0     231747          24.0          2.0   2023-09-22     K. Mbappé   \n",
       "1     239085          24.0          2.0   2023-09-22    E. Haaland   \n",
       "2     192985          24.0          2.0   2023-09-22  K. De Bruyne   \n",
       "3     158023          24.0          2.0   2023-09-22      L. Messi   \n",
       "4     165153          24.0          2.0   2023-09-22    K. Benzema   \n",
       "\n",
       "                        long_name  potential    value_eur  age  height_cm  \\\n",
       "0            Kylian Mbappé Lottin         94  181500000.0   24        182   \n",
       "1            Erling Braut Haaland         94  185000000.0   22        195   \n",
       "2                 Kevin De Bruyne         91  103000000.0   32        181   \n",
       "3  Lionel Andrés Messi Cuccittini         90   41000000.0   36        169   \n",
       "4                   Karim Benzema         90   51000000.0   35        185   \n",
       "\n",
       "   ...  international_reputation  club_position player_positions  pace  \\\n",
       "0  ...                         5             LW           ST, LW  97.0   \n",
       "1  ...                         5             ST               ST  89.0   \n",
       "2  ...                         5            SUB          CM, CAM  72.0   \n",
       "3  ...                         5             RF          CF, CAM  80.0   \n",
       "4  ...                         5             RS           CF, ST  79.0   \n",
       "\n",
       "   shooting  passing  dribbling  defending  physic  value_eur_log  \n",
       "0      90.0     80.0       92.0       36.0    78.0      19.016766  \n",
       "1      93.0     66.0       80.0       45.0    88.0      19.035866  \n",
       "2      88.0     94.0       87.0       65.0    78.0      18.450240  \n",
       "3      87.0     90.0       94.0       33.0    64.0      17.529083  \n",
       "4      88.0     83.0       87.0       39.0    78.0      17.747336  \n",
       "\n",
       "[5 rows x 21 columns]"
      ]
     },
     "execution_count": 14,
     "metadata": {},
     "output_type": "execute_result"
    }
   ],
   "source": [
    "df.head()"
   ]
  },
  {
   "cell_type": "code",
   "execution_count": 15,
   "metadata": {},
   "outputs": [
    {
     "data": {
      "text/plain": [
       "False"
      ]
     },
     "execution_count": 15,
     "metadata": {},
     "output_type": "execute_result"
    }
   ],
   "source": [
    "df.isnull().any(axis=1).any()"
   ]
  },
  {
   "cell_type": "code",
   "execution_count": 21,
   "metadata": {},
   "outputs": [],
   "source": [
    "required_columns =['player_id', 'fifa_version', 'fifa_update', 'update_as_of',\n",
    "       'short_name', 'long_name', 'potential', 'value_eur', 'age', 'height_cm',\n",
    "       'weak_foot', 'international_reputation', 'club_position',\n",
    "       'player_positions', 'pace', 'shooting', 'passing', 'dribbling',\n",
    "       'defending', 'physic', 'value_eur_log']\n",
    "\n",
    "missing_columns = set(required_columns) - set(df.columns)\n",
    "assert len(missing_columns) == 0, f\"Missing required columns: {missing_columns}\""
   ]
  },
  {
   "cell_type": "code",
   "execution_count": null,
   "metadata": {},
   "outputs": [],
   "source": []
  }
 ],
 "metadata": {
  "kernelspec": {
   "display_name": "fifa-prices",
   "language": "python",
   "name": "python3"
  },
  "language_info": {
   "codemirror_mode": {
    "name": "ipython",
    "version": 3
   },
   "file_extension": ".py",
   "mimetype": "text/x-python",
   "name": "python",
   "nbconvert_exporter": "python",
   "pygments_lexer": "ipython3",
   "version": "3.12.4"
  }
 },
 "nbformat": 4,
 "nbformat_minor": 2
}
